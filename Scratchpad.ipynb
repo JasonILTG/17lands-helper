{
 "cells": [
  {
   "cell_type": "code",
   "execution_count": 17,
   "id": "5f5a8851",
   "metadata": {},
   "outputs": [
    {
     "name": "stdout",
     "output_type": "stream",
     "text": [
      "SETS:          ['MID']\n",
      "FORMATS:       ['PremierDraft', 'TradDraft']\n"
     ]
    }
   ],
   "source": [
    "import os\n",
    "import json\n",
    "import numpy as np\n",
    "import pandas as pd\n",
    "\n",
    "import WUBRG\n",
    "from WUBRG import COLOR_ALIASES_SUPPORT, COLOR_ALIASES, COLOUR_GROUPINGS, COLOUR_GROUPS, COLORS\n",
    "\n",
    "import set_info\n",
    "from set_info import SETS, FORMATS, STAT_NAMES\n",
    "DATA_CACHE = None\n",
    "PANDAS_CACHE = None\n",
    "print(f'SETS:          {str(SETS)}')\n",
    "print(f'FORMATS:       {str(FORMATS)}')\n",
    "\n",
    "\n",
    "COLUMNS_TRUNC = [\"Color\", \"ALSA\", \"# GP\", \"GP WR\", \"# GIH\", \"GIH WR\"]"
   ]
  },
  {
   "cell_type": "code",
   "execution_count": 22,
   "id": "a2a89296",
   "metadata": {},
   "outputs": [
    {
     "name": "stdout",
     "output_type": "stream",
     "text": [
      "Checking for new format data...\n",
      "MID PremierDraft data is up to date!\n",
      "MID TradDraft data is up to date!\n",
      "Done checking for new format data.\r\n",
      "\n",
      "Checking for cache updates...\n",
      "Parsing MID_PremierDraft.json...\n",
      "MID PremierDraft added to DATA_CACHE!\n",
      "Parsing MID_TradDraft.json...\n",
      "MID TradDraft added to DATA_CACHE!\n",
      "Done checking for cache updates.\r\n",
      "\n"
     ]
    }
   ],
   "source": [
    "set_info.init_cache()\n",
    "DATA_CACHE = set_info.DATA_CACHE\n",
    "PANDAS_CACHE = set_info.PANDAS_CACHE"
   ]
  },
  {
   "cell_type": "code",
   "execution_count": 30,
   "id": "20e305a3",
   "metadata": {},
   "outputs": [],
   "source": [
    "# Filters out cards that have a number of games played less than p% of # GP.\n",
    "def min_play_filter(df, p):\n",
    "    min_game = df['# GP'].mean() * (p/100)\n",
    "    return df[df['# GP'] >= min_game]\n",
    "\n",
    "# Filters out cards that don't fall within the colour identy.\n",
    "def color_id_filter(df, color_string):\n",
    "    if color_string is not None and color_string != '':\n",
    "        return df[df['Color'].apply(lambda x: set(x) <= set(color_string))]\n",
    "    else:\n",
    "        return df\n",
    "\n",
    "# Filters out cards that aren't in the given rarities.\n",
    "def rarity_filter(df, rarity):\n",
    "    if rarity is not None and rarity != '':\n",
    "        return df[df['Rarity'].apply(lambda x: set(x) <= set(rarity))]\n",
    "    else:\n",
    "        return df\n",
    "\n",
    "# Gets the top n cards, based on a particular stat column.\n",
    "# Can filter based on card colours, rarity.\n",
    "# Can get the bottom n cards with 'reverse=True'\n",
    "def get_top(df, col, n=5, card_colors=None, card_rarity=None, min_thresh=10, reverse=False):\n",
    "    filtered = min_play_filter(df, min_thresh)\n",
    "    filtered = color_id_filter(filtered, card_colors)\n",
    "    filtered = rarity_filter(filtered, card_rarity)\n",
    "\n",
    "    # Functional XOR.\n",
    "    reverse = reverse != (col == \"ALSA\" or col == \"ATA\")\n",
    "    \n",
    "    # Return the smallest values if we're dealing with pick orders\n",
    "    if reverse != (col == \"ALSA\" or col == \"ATA\"):\n",
    "        return filtered.nsmallest(n, col)\n",
    "    else:\n",
    "        return filtered.nlargest(n, col)\n",
    "\n",
    "# Gets a suite of data about the given colour's position in the metagame.\n",
    "def get_color_metadata(s, f, color, stat='GIH WR', columns=None):\n",
    "    df = PANDAS_CACHE[s][f]['']\n",
    "    if columns == None:\n",
    "        columns = list(df)\n",
    "    \n",
    "    top_commons = get_top(df, stat, n=10, card_colors=color, card_rarity='C')\n",
    "    top_commons.columns.name = f'Top 10 {color} Commons'\n",
    "    top_commons = top_commons[columns]\n",
    "    top_uncommons = get_top(df, stat, n=10, card_colors=color, card_rarity='U')\n",
    "    top_uncommons.columns.name = f'Top 10 {color} Uncommons'\n",
    "    top_uncommons = top_uncommons[columns]\n",
    "    \n",
    "    color_pairs = [color + x for x in COLORS if x != color]\n",
    "    color_pair_dfs = dict()\n",
    "    \n",
    "    for col in color_pairs:\n",
    "        c = WUBRG.get_color_identity(col)\n",
    "        commons = get_top(PANDAS_CACHE[s][f][c], stat, n=5, card_rarity='C')\n",
    "        uncommons = get_top(PANDAS_CACHE[s][f][c], stat, n=5, card_rarity='U')\n",
    "        df = pd.concat([commons, uncommons])\n",
    "        df.columns.name = f'{col} Top Cards'\n",
    "        df = df[columns]\n",
    "        color_pair_dfs[c] = df\n",
    "        \n",
    "    # TODO: Add in a fun fact here.\n",
    "        \n",
    "    return (top_commons, top_uncommons, color_pair_dfs)"
   ]
  },
  {
   "cell_type": "code",
   "execution_count": 31,
   "id": "a7eaf01a",
   "metadata": {},
   "outputs": [
    {
     "data": {
      "text/plain": [
       "(Top 10 G Commons      Color   ALSA   # GP   GP WR  # GIH  GIH WR\n",
       " Eccentric Farmer          G  6.369  44986  56.142  31193  58.311\n",
       " Shadowbeast Sighting      G  4.909  50300  55.410  31187  56.889\n",
       " Evolving Wilds               4.820  85467  56.171  47674  56.557\n",
       " Silver Bolt                  5.446  63683  55.801  33195  55.641\n",
       " Harvesttide Sentry        G  6.321  39863  55.214  24146  55.421\n",
       " Duel for Dominance        G  4.795  44763  54.474  25917  54.404\n",
       " Might of the Old Ways     G  7.449  21709  54.655  10511  54.191\n",
       " Dawnhart Rejuvenator      G  6.278  26691  53.336  14954  54.133\n",
       " Jack-o'-Lantern              8.163   8978  53.096   4519  53.906\n",
       " Timberland Guide          G  6.614  31198  54.324  17122  53.750,\n",
       " Top 10 G Uncommons   Color   ALSA   # GP   GP WR  # GIH  GIH WR\n",
       " Rise of the Ants         G  4.065  25067  57.235  12629  61.002\n",
       " Deathbonnet Sprout       G  3.941  20554  56.135  10691  59.115\n",
       " Dawnhart Mentor          G  3.915  21641  56.499  10559  59.078\n",
       " Clear Shot               G  3.024  25402  55.582  12824  58.071\n",
       " Hound Tamer              G  2.729  21743  55.439  10969  57.079\n",
       " Contortionist Troupe     G  3.140  22608  54.901  11302  56.450\n",
       " Burly Breaker            G  3.306  18071  54.474   8718  55.414\n",
       " Defend the Celestus      G  4.566  15731  54.002   7126  54.982\n",
       " Outland Liberator        G  3.521  20988  55.208  10352  54.898\n",
       " Turn the Earth           G  7.363   2223  52.767   1042  54.607,\n",
       " {'WG': GW Top Cards         Color   ALSA   # GP   GP WR  # GIH  GIH WR\n",
       "  Gavony Trapper           W  5.486  15248  57.798   7838  59.097\n",
       "  Blessed Defiance         W  7.446   3502  59.138   1646  58.748\n",
       "  Eccentric Farmer         G  6.369  10071  57.700   6175  58.640\n",
       "  Lunarch Veteran          W  5.001  10620  57.533   5839  58.058\n",
       "  Shadowbeast Sighting     G  4.909  12321  57.439   6846  57.946\n",
       "  Diregraf Rebirth        BG  5.144    350  55.429    142  64.085\n",
       "  Dawnhart Mentor          G  3.915   8583  59.175   4136  61.968\n",
       "  Ambitious Farmhand       W  2.746   7378  58.688   3610  61.745\n",
       "  Duelcraft Trainer        W  2.877   7279  58.030   3441  61.174\n",
       "  Sacred Fire             WR  4.636    279  59.498    122  60.656,\n",
       "  'UG': GU Top Cards           Color   ALSA   # GP   GP WR  # GIH  GIH WR\n",
       "  Defenestrate               B  2.762   1021  58.080    595  62.521\n",
       "  Organ Hoarder              U  4.312  13968  58.119  10767  61.531\n",
       "  Revenge of the Drowned     U  5.111  11470  58.038   7770  61.300\n",
       "  Eccentric Farmer           G  6.369  14717  57.777  11475  60.244\n",
       "  Harvesttide Sentry         G  6.321   7697  57.412   4805  59.043\n",
       "  Rise of the Ants           G  4.065   7981  59.166   4448  63.871\n",
       "  Deathbonnet Sprout         G  3.941   5956  57.824   3331  62.624\n",
       "  Skaab Wrangler             U  4.493   5442  59.298   2999  61.354\n",
       "  Clear Shot                 G  3.024   6080  57.681   3448  60.992\n",
       "  Overwhelmed Archivist      U  3.392   6453  58.128   3285  60.700,\n",
       "  'BG': GB Top Cards             Color   ALSA   # GP   GP WR  # GIH  GIH WR\n",
       "  Organ Hoarder                U  4.312    266  60.902    158  62.658\n",
       "  Defenestrate                 B  2.762   8184  56.109   4519  59.305\n",
       "  Shadowbeast Sighting         G  4.909  10351  55.579   6519  58.291\n",
       "  Olivia's Midnight Ambush     B  3.172   9219  55.451   5559  58.230\n",
       "  Eccentric Farmer             G  6.369   9683  55.654   6584  58.171\n",
       "  Rootcoil Creeper            UG  5.317    152  59.211     77  63.636\n",
       "  Infernal Grasp               B  1.936   3633  57.088   1722  62.427\n",
       "  Rise of the Ants             G  4.065   5229  56.569   2516  60.731\n",
       "  Foul Play                    B  2.966   3597  56.380   1723  59.663\n",
       "  Dreadhound                   B  2.877   3965  55.788   1911  59.341,\n",
       "  'RG': GR Top Cards         Color   ALSA   # GP   GP WR  # GIH  GIH WR\n",
       "  Shadowbeast Sighting     G  4.909   8814  52.280   5365  53.458\n",
       "  Burn the Accursed        R  4.414   8929  51.002   4954  52.846\n",
       "  Famished Foragers        R  6.293   4320  52.269   2140  52.477\n",
       "  Moonrager's Slash        R  3.311  10254  52.067   6963  52.477\n",
       "  Eccentric Farmer         G  6.369   5436  52.796   3265  52.466\n",
       "  Sacred Fire             WR  4.636    345  54.203    183  57.923\n",
       "  Rise of the Ants         G  4.065   3506  54.193   1663  57.186\n",
       "  Kessig Naturalist       RG  4.420   7468  51.500   3999  55.089\n",
       "  Cathartic Pyre           R  2.641   4508  52.307   2313  54.388\n",
       "  Clear Shot               G  3.024   4834  52.669   2389  54.207})"
      ]
     },
     "execution_count": 31,
     "metadata": {},
     "output_type": "execute_result"
    }
   ],
   "source": [
    "s = SETS[0]\n",
    "f = FORMATS[0]\n",
    "get_color_metadata(s, f, 'G', columns=COLUMNS_TRUNC)"
   ]
  },
  {
   "cell_type": "code",
   "execution_count": 4,
   "id": "2203df6a",
   "metadata": {
    "scrolled": true
   },
   "outputs": [
    {
     "ename": "TypeError",
     "evalue": "'NoneType' object is not subscriptable",
     "output_type": "error",
     "traceback": [
      "\u001b[1;31m---------------------------------------------------------------------------\u001b[0m",
      "\u001b[1;31mTypeError\u001b[0m                                 Traceback (most recent call last)",
      "\u001b[1;32m<ipython-input-4-8306f5c9f444>\u001b[0m in \u001b[0;36m<module>\u001b[1;34m\u001b[0m\n\u001b[1;32m----> 1\u001b[1;33m \u001b[0mPANDAS_CACHE\u001b[0m\u001b[1;33m[\u001b[0m\u001b[0ms\u001b[0m\u001b[1;33m]\u001b[0m\u001b[1;33m[\u001b[0m\u001b[0mf\u001b[0m\u001b[1;33m]\u001b[0m\u001b[1;33m[\u001b[0m\u001b[1;34m''\u001b[0m\u001b[1;33m]\u001b[0m\u001b[1;33m\u001b[0m\u001b[1;33m\u001b[0m\u001b[0m\n\u001b[0m",
      "\u001b[1;31mTypeError\u001b[0m: 'NoneType' object is not subscriptable"
     ]
    }
   ],
   "source": [
    "PANDAS_CACHE[s][f]['']"
   ]
  },
  {
   "cell_type": "code",
   "execution_count": null,
   "id": "fd314ddb",
   "metadata": {},
   "outputs": [],
   "source": [
    "def gt(x, y):  #Used for function pointer shenanigans\n",
    "    return x > y\n",
    "\n",
    "def lt(x, y):  #Used for function pointer shenanigans\n",
    "    return x < y\n",
    "\n",
    "def filter_qudrant_cards_df(df, rarity, iwd_thresh, func1, func2, cols=None):\n",
    "    by_rarity = df[df['Rarity'] == rarity]\n",
    "    games_played_mean = by_rarity['# GP'].mean()\n",
    "    cards = by_rarity[func1(by_rarity['IWD'], iwd_thresh)]\n",
    "    cards = cards[func2(cards['# GP'], games_played_mean)]\n",
    "    cards = cards.sort_values('IWD', ascending=func1==lt)\n",
    "    if cols is not None:\n",
    "        cards = cards[cols]\n",
    "    return cards\n",
    "\n",
    "\n",
    "def get_trap_cards_df(df, rarity='common', iwd_thresh=0, cols=None):\n",
    "    return filter_qudrant_cards_df(df, rarity, iwd_thresh, lt, gt, cols)\n",
    "\n",
    "def get_trap_cards(s, f, c, rarity='common', iwd_thresh=0, cols=None):\n",
    "    return get_trap_cards_df(PANDAS_CACHE[s][f][c], rarity, iwd_thresh, cols)\n",
    "\n",
    "\n",
    "def get_niche_cards_df(df, rarity='common', iwd_thresh=0, cols=None):\n",
    "    return filter_qudrant_cards_df(df, rarity, iwd_thresh, gt, lt, cols)\n",
    "\n",
    "def get_niche_cards(s, f, c, rarity='common', iwd_thresh=0, cols=None):\n",
    "    return get_niche_cards_df(PANDAS_CACHE[s][f][c], rarity, iwd_thresh, cols)\n",
    "\n",
    "\n",
    "def get_staple_cards_df(df, rarity='common', iwd_thresh=0, cols=None):\n",
    "    return filter_qudrant_cards_df(df, rarity, iwd_thresh, gt, gt, cols)\n",
    "\n",
    "def get_staple_cards(s, f, c, rarity='common', iwd_thresh=0, cols=None):\n",
    "    return get_staple_cards_df(PANDAS_CACHE[s][f][c], rarity, iwd_thresh, cols)\n",
    "\n",
    "\n",
    "def get_dreg_cards_df(df, rarity='common', iwd_thresh=0, cols=None):\n",
    "    return filter_qudrant_cards_df(df, rarity, iwd_thresh, lt, lt, cols)\n",
    "\n",
    "def get_dreg_cards(s, f, c, rarity='common', iwd_thresh=0, cols=None):\n",
    "    return get_dreg_cards_df(PANDAS_CACHE[s][f][c], rarity, iwd_thresh, cols)"
   ]
  },
  {
   "cell_type": "code",
   "execution_count": null,
   "id": "5a7471da",
   "metadata": {},
   "outputs": [],
   "source": [
    "def filter_df(df, rarity, color):\n",
    "    temp = df[df['Rarity'] == rarity]\n",
    "    temp = temp[temp['Color'] == color]\n",
    "    return temp"
   ]
  },
  {
   "cell_type": "code",
   "execution_count": null,
   "id": "6f09c507",
   "metadata": {
    "scrolled": false
   },
   "outputs": [],
   "source": [
    "premier = PANDAS_CACHE['MID']['PremierDraft']['WU'].sort_values('GP WR', ascending=False)\n",
    "premier\n",
    "\n",
    "test = premier[premier['Color'].apply(lambda x: set(x) <= set('WU'))]\n",
    "#frame['Color'].apply(lambda x: any([k in x for k in 'WU']))\n",
    "min_game = test['# GP'].mean() * 0.1\n",
    "test[test['# GP'] >= min_game]"
   ]
  },
  {
   "cell_type": "code",
   "execution_count": null,
   "id": "6e9e63be",
   "metadata": {},
   "outputs": [],
   "source": [
    "def center(df, stat):\n",
    "    temp = df.copy()\n",
    "    \n",
    "    stat_mean = temp[stat].mean()\n",
    "    temp[stat] = temp[stat] - stat_mean\n",
    "    return temp.sort_values(stat, ascending=(stat == \"ALSA\" or stat == \"ATA\"))"
   ]
  },
  {
   "cell_type": "code",
   "execution_count": null,
   "id": "546dd301",
   "metadata": {},
   "outputs": [],
   "source": [
    "center(PANDAS_CACHE['MID']['PremierDraft']['WU'], 'ALSA')"
   ]
  },
  {
   "cell_type": "code",
   "execution_count": null,
   "id": "be1c970e",
   "metadata": {},
   "outputs": [],
   "source": [
    "stat = 'GIH WR'\n",
    "x = get_top(PANDAS_CACHE['MID']['PremierDraft']['WU'], stat, n=5, card_colors=None, card_rarity='MR')\n",
    "[\"Color\", \"ALSA\", \"# GP\", \"GP WR\", \"# GIH\", \"GIH WR\"]\n",
    "x"
   ]
  },
  {
   "cell_type": "code",
   "execution_count": null,
   "id": "1ebfa295",
   "metadata": {},
   "outputs": [],
   "source": [
    "s = SETS[0]\n",
    "f = FORMATS[0]\n",
    "stat = 'GP WR'\n",
    "#get_top(PANDAS_CACHE[s][f][''], stat, n=5, card_colors=None, card_rarity=None)\n",
    "\n",
    "rarities = ['', 'C', 'U', 'R', 'M']\n",
    "\n",
    "\n",
    "def get_top_5s():\n",
    "    top_5_dict = dict()\n",
    "    colors = ['W', 'U', 'B', 'R', 'G']\n",
    "    rarity_sets = [('C', 5), ('U', 5), ('RM', 3)]\n",
    "    \n",
    "    for c1 in colors:\n",
    "        for c2 in colors:\n",
    "            c = WUBRG.get_color_identity(c1 + c2)\n",
    "            top_5_dict[c] = dict()\n",
    "            for r in rarity_sets:\n",
    "                color_filter = c if (len(c) == 1) else None\n",
    "                top_5_dict[c][r[0]] = get_top(PANDAS_CACHE[s][f][c], stat, n=r[1], card_colors=color_filter, card_rarity=r[0])\n",
    "                alias = WUBRG.get_color_alias(c)\n",
    "                top_5_dict[c][r[0]].columns.name = alias\n",
    "    return top_5_dict\n",
    "\n",
    "#top_5_dict = get_top_5s()\n",
    "\n",
    "def top_5_snippet(color, rarity):\n",
    "    trgt_cols = ['ALSA', 'ATA', '# GP', 'GP WR', '# GIH', 'GIH WR']\n",
    "    return top_5_dict[color][rarity][trgt_cols]\n",
    "\n",
    "#top_5_snippet('UR', 'U')"
   ]
  },
  {
   "cell_type": "code",
   "execution_count": null,
   "id": "6457bc00",
   "metadata": {},
   "outputs": [],
   "source": []
  },
  {
   "cell_type": "code",
   "execution_count": null,
   "id": "14edab52",
   "metadata": {
    "scrolled": false
   },
   "outputs": [],
   "source": [
    "premier_commons = premier[premier['Rarity'] == 'C']\n",
    "premier_commons['GP WR'].nlargest(n=5)"
   ]
  },
  {
   "cell_type": "code",
   "execution_count": null,
   "id": "e170f10b",
   "metadata": {
    "scrolled": true
   },
   "outputs": [],
   "source": [
    "colours = ''\n",
    "rarity = 'U'\n",
    "get_trap_cards('MID', 'PremierDraft', colours, rarity, 0.005)"
   ]
  },
  {
   "cell_type": "code",
   "execution_count": null,
   "id": "19e8aa32",
   "metadata": {
    "scrolled": false
   },
   "outputs": [],
   "source": [
    "colours = ''\n",
    "rarity = 'U'\n",
    "get_niche_cards('MID', 'PremierDraft', colours, rarity, 0.005)"
   ]
  },
  {
   "cell_type": "code",
   "execution_count": null,
   "id": "e85632ea",
   "metadata": {
    "scrolled": false
   },
   "outputs": [],
   "source": [
    "colours = ''\n",
    "rarity = 'U'\n",
    "get_staple_cards('MID', 'PremierDraft', colours, rarity, 0.005)"
   ]
  },
  {
   "cell_type": "code",
   "execution_count": null,
   "id": "42c2fa54",
   "metadata": {
    "scrolled": true
   },
   "outputs": [],
   "source": [
    "colours = ''\n",
    "rarity = 'U'\n",
    "get_dreg_cards('MID', 'PremierDraft', colours, rarity, -0.005)"
   ]
  }
 ],
 "metadata": {
  "kernelspec": {
   "display_name": "Python 3",
   "language": "python",
   "name": "python3"
  },
  "language_info": {
   "codemirror_mode": {
    "name": "ipython",
    "version": 3
   },
   "file_extension": ".py",
   "mimetype": "text/x-python",
   "name": "python",
   "nbconvert_exporter": "python",
   "pygments_lexer": "ipython3",
   "version": "3.8.8"
  }
 },
 "nbformat": 4,
 "nbformat_minor": 5
}
