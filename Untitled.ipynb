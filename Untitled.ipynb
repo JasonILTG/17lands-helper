{
 "cells": [
  {
   "cell_type": "code",
   "execution_count": 26,
   "id": "5cda5542-e7de-487a-ab4f-f2031145eecf",
   "metadata": {},
   "outputs": [],
   "source": [
    "import discord\n",
    "intents = discord.Intents.default()\n",
    "intents.typing = False\n",
    "intents.presences = False"
   ]
  },
  {
   "cell_type": "code",
   "execution_count": 27,
   "id": "2d39494f-14a7-48d6-a0ab-62284cca005e",
   "metadata": {},
   "outputs": [],
   "source": [
    "client = discord.Client(intents=intents)"
   ]
  },
  {
   "cell_type": "code",
   "execution_count": null,
   "id": "b5a51a98-9df9-4365-b4ba-da5b1670ce4f",
   "metadata": {},
   "outputs": [],
   "source": []
  },
  {
   "cell_type": "code",
   "execution_count": 25,
   "id": "7bc7d055-b75c-4325-8c87-2d4baacc3420",
   "metadata": {},
   "outputs": [
    {
     "ename": "ImportError",
     "evalue": "attempted relative import with no known parent package",
     "output_type": "error",
     "traceback": [
      "\u001b[1;31m---------------------------------------------------------------------------\u001b[0m",
      "\u001b[1;31mImportError\u001b[0m                               Traceback (most recent call last)",
      "\u001b[1;32m~\\AppData\\Local\\Temp/ipykernel_21356/1687106303.py\u001b[0m in \u001b[0;36m<module>\u001b[1;34m\u001b[0m\n\u001b[1;32m----> 1\u001b[1;33m \u001b[1;32mfrom\u001b[0m \u001b[1;33m.\u001b[0m\u001b[1;33m.\u001b[0m\u001b[0mseventeen_helper\u001b[0m\u001b[1;33m.\u001b[0m\u001b[0mchat_bot\u001b[0m\u001b[1;33m.\u001b[0m\u001b[0mutils\u001b[0m\u001b[1;33m.\u001b[0m\u001b[0mconsts\u001b[0m \u001b[1;32mimport\u001b[0m \u001b[0mCOMMAND_STR\u001b[0m\u001b[1;33m,\u001b[0m \u001b[0mDATA_QUERY_L\u001b[0m\u001b[1;33m,\u001b[0m \u001b[0mDATA_QUERY_R\u001b[0m\u001b[1;33m\u001b[0m\u001b[1;33m\u001b[0m\u001b[0m\n\u001b[0m\u001b[0;32m      2\u001b[0m \u001b[1;32mfrom\u001b[0m \u001b[1;33m.\u001b[0m\u001b[1;33m.\u001b[0m\u001b[0mseventeen_helper\u001b[0m\u001b[1;33m.\u001b[0m\u001b[0mchat_bot\u001b[0m\u001b[1;33m.\u001b[0m\u001b[0mutils\u001b[0m\u001b[1;33m.\u001b[0m\u001b[0msettings\u001b[0m \u001b[1;32mimport\u001b[0m \u001b[0mUPDATING_SETS\u001b[0m\u001b[1;33m,\u001b[0m \u001b[0mOLD_SETS\u001b[0m\u001b[1;33m\u001b[0m\u001b[1;33m\u001b[0m\u001b[0m\n\u001b[0;32m      3\u001b[0m \u001b[1;32mfrom\u001b[0m \u001b[1;33m.\u001b[0m\u001b[1;33m.\u001b[0m\u001b[0mseventeen_helper\u001b[0m\u001b[1;33m.\u001b[0m\u001b[0mchat_bot\u001b[0m\u001b[1;33m.\u001b[0m\u001b[0mManamoji\u001b[0m \u001b[1;32mimport\u001b[0m \u001b[0mManamoji\u001b[0m\u001b[1;33m\u001b[0m\u001b[1;33m\u001b[0m\u001b[0m\n\u001b[0;32m      4\u001b[0m \u001b[1;32mfrom\u001b[0m \u001b[1;33m.\u001b[0m\u001b[1;33m.\u001b[0m\u001b[0mseventeen_helper\u001b[0m\u001b[1;33m.\u001b[0m\u001b[0mchat_bot\u001b[0m\u001b[1;33m.\u001b[0m\u001b[0mmessage_maker\u001b[0m \u001b[1;32mimport\u001b[0m \u001b[0mhandle_card_request_v2\u001b[0m\u001b[1;33m,\u001b[0m \u001b[0mhandle_command\u001b[0m\u001b[1;33m\u001b[0m\u001b[1;33m\u001b[0m\u001b[0m\n\u001b[0;32m      5\u001b[0m \u001b[1;32mfrom\u001b[0m \u001b[1;33m.\u001b[0m\u001b[1;33m.\u001b[0m\u001b[0mseventeen_helper\u001b[0m\u001b[1;33m.\u001b[0m\u001b[0mchat_bot\u001b[0m\u001b[1;33m.\u001b[0m\u001b[0mDataCache\u001b[0m \u001b[1;32mimport\u001b[0m \u001b[0mDataCache\u001b[0m\u001b[1;33m\u001b[0m\u001b[1;33m\u001b[0m\u001b[0m\n",
      "\u001b[1;31mImportError\u001b[0m: attempted relative import with no known parent package"
     ]
    }
   ],
   "source": [
    "from ..seventeen_helper.chat_bot.utils.consts import COMMAND_STR, DATA_QUERY_L, DATA_QUERY_R\n",
    "from ..seventeen_helper.chat_bot.utils.settings import UPDATING_SETS, OLD_SETS\n",
    "from ..seventeen_helper.chat_bot.Manamoji import Manamoji\n",
    "from ..seventeen_helper.chat_bot.message_maker import handle_card_request_v2, handle_command\n",
    "from ..seventeen_helper.chat_bot.DataCache import DataCache"
   ]
  },
  {
   "cell_type": "code",
   "execution_count": 2,
   "id": "8a70bcb6-137f-4496-8c93-7cff9e200139",
   "metadata": {},
   "outputs": [
    {
     "ename": "ModuleNotFoundError",
     "evalue": "No module named 'chat_bot'",
     "output_type": "error",
     "traceback": [
      "\u001b[1;31m---------------------------------------------------------------------------\u001b[0m",
      "\u001b[1;31mModuleNotFoundError\u001b[0m                       Traceback (most recent call last)",
      "\u001b[1;32m~\\AppData\\Local\\Temp/ipykernel_6440/2730627463.py\u001b[0m in \u001b[0;36m<module>\u001b[1;34m\u001b[0m\n\u001b[0;32m      1\u001b[0m \u001b[1;32mif\u001b[0m \u001b[0m__name__\u001b[0m \u001b[1;33m==\u001b[0m \u001b[1;34m\"__main__\"\u001b[0m\u001b[1;33m:\u001b[0m\u001b[1;33m\u001b[0m\u001b[1;33m\u001b[0m\u001b[0m\n\u001b[1;32m----> 2\u001b[1;33m     \u001b[0mmain\u001b[0m\u001b[1;33m(\u001b[0m\u001b[1;33m)\u001b[0m\u001b[1;33m\u001b[0m\u001b[1;33m\u001b[0m\u001b[0m\n\u001b[0m",
      "\u001b[1;32m~\\AppData\\Local\\Temp/ipykernel_6440/1493611713.py\u001b[0m in \u001b[0;36mmain\u001b[1;34m()\u001b[0m\n\u001b[0;32m      3\u001b[0m     \u001b[1;32mfrom\u001b[0m \u001b[0mdiscord\u001b[0m\u001b[1;33m.\u001b[0m\u001b[0mext\u001b[0m \u001b[1;32mimport\u001b[0m \u001b[0mtasks\u001b[0m\u001b[1;33m\u001b[0m\u001b[1;33m\u001b[0m\u001b[0m\n\u001b[0;32m      4\u001b[0m \u001b[1;33m\u001b[0m\u001b[0m\n\u001b[1;32m----> 5\u001b[1;33m     \u001b[1;32mfrom\u001b[0m \u001b[0mchat_bot\u001b[0m\u001b[1;33m.\u001b[0m\u001b[0mutils\u001b[0m\u001b[1;33m.\u001b[0m\u001b[0mconsts\u001b[0m \u001b[1;32mimport\u001b[0m \u001b[0mCOMMAND_STR\u001b[0m\u001b[1;33m,\u001b[0m \u001b[0mDATA_QUERY_L\u001b[0m\u001b[1;33m,\u001b[0m \u001b[0mDATA_QUERY_R\u001b[0m\u001b[1;33m\u001b[0m\u001b[1;33m\u001b[0m\u001b[0m\n\u001b[0m\u001b[0;32m      6\u001b[0m     \u001b[1;32mfrom\u001b[0m \u001b[0mchat_bot\u001b[0m\u001b[1;33m.\u001b[0m\u001b[0mutils\u001b[0m\u001b[1;33m.\u001b[0m\u001b[0msettings\u001b[0m \u001b[1;32mimport\u001b[0m \u001b[0mUPDATING_SETS\u001b[0m\u001b[1;33m,\u001b[0m \u001b[0mOLD_SETS\u001b[0m\u001b[1;33m\u001b[0m\u001b[1;33m\u001b[0m\u001b[0m\n\u001b[0;32m      7\u001b[0m     \u001b[1;32mfrom\u001b[0m \u001b[0mchat_bot\u001b[0m\u001b[1;33m.\u001b[0m\u001b[0mManamoji\u001b[0m \u001b[1;32mimport\u001b[0m \u001b[0mManamoji\u001b[0m\u001b[1;33m\u001b[0m\u001b[1;33m\u001b[0m\u001b[0m\n",
      "\u001b[1;31mModuleNotFoundError\u001b[0m: No module named 'chat_bot'"
     ]
    }
   ],
   "source": [
    "client: Client = Client()\n",
    "\n",
    "\n",
    "@client.event\n",
    "async def on_message(message: Message) -> None:\n",
    "    \"\"\"\n",
    "    Automatically handles what the bot should do when a user sends a message.\n",
    "    :param message: The sent message.\n",
    "    \"\"\"\n",
    "    # Don't parse own messages\n",
    "    if message.author == client.user:\n",
    "        return\n",
    "\n",
    "    # Handle data queries of the form '{{query | options}}'\n",
    "    if (DATA_QUERY_L in message.content) and (DATA_QUERY_R in message.content):\n",
    "        await handle_card_request_v2(message.content, message.channel)\n",
    "\n",
    "    # Only parse messages that start with command string '17!'\n",
    "    if message.content.startswith(COMMAND_STR):\n",
    "        await handle_command(message.content, message.channel)\n",
    "\n",
    "\n",
    "@tasks.loop(hours=12)\n",
    "async def refresh_data() -> None:\n",
    "    \"\"\"\n",
    "    Refreshes data about the set on a loop.\n",
    "    \"\"\"\n",
    "    DataCache.fetch_data(UPDATING_SETS)\n",
    "    ##for s in UPDATING_SETS:\n",
    "    ##    mgr = SetManager(s, True, False)\n",
    "    ##    mgr.check_for_updates()\n",
    "\n",
    "\n",
    "@client.event\n",
    "async def on_ready() -> None:\n",
    "    \"\"\"\n",
    "    Set up for the bot, which happens when it is first loaded.\n",
    "    \"\"\"\n",
    "    Manamoji.cache_manamojis(client)\n",
    "    DataCache.fetch_data(OLD_SETS)\n",
    "    ##for s in OLD_SETS:\n",
    "    ##    mgr = SetManager(s, True, False)\n",
    "    ##    mgr.check_for_updates()\n",
    "    print('Logged in as {0.user}'.format(client))\n",
    "\n",
    "\n",
    "def main():\n",
    "    refresh_data.start()\n",
    "    try:\n",
    "        import os\n",
    "        client.run(os.environ['TOKEN'])\n",
    "    except KeyError:\n",
    "        # print(\"Critical Error! Could not load token from operating system.\")\n",
    "        # Temporarily let this run locally with my bot token, so I can\n",
    "        # check that everything compiles properly. I'll make sure to\n",
    "        # remove this later.\n",
    "        #    -ZacharyN\n",
    "        from LocalToken import TOKEN\n",
    "        client.run(TOKEN)\n",
    "\n",
    "\n",
    "if __name__ == \"__main__\":\n",
    "    main()"
   ]
  },
  {
   "cell_type": "code",
   "execution_count": 1,
   "id": "51967c2c-72d0-4e3f-89d7-52c8dc7e50a4",
   "metadata": {},
   "outputs": [],
   "source": []
  },
  {
   "cell_type": "code",
   "execution_count": null,
   "id": "a80002ee-03a3-48ee-be49-f704aab49323",
   "metadata": {},
   "outputs": [],
   "source": []
  }
 ],
 "metadata": {
  "kernelspec": {
   "display_name": "Python 3 (ipykernel)",
   "language": "python",
   "name": "python3"
  },
  "language_info": {
   "codemirror_mode": {
    "name": "ipython",
    "version": 3
   },
   "file_extension": ".py",
   "mimetype": "text/x-python",
   "name": "python",
   "nbconvert_exporter": "python",
   "pygments_lexer": "ipython3",
   "version": "3.9.13"
  }
 },
 "nbformat": 4,
 "nbformat_minor": 5
}
